{
 "cells": [
  {
   "cell_type": "code",
   "execution_count": 6,
   "id": "460901c8",
   "metadata": {},
   "outputs": [
    {
     "name": "stdout",
     "output_type": "stream",
     "text": [
      "Enter csv file name2010s_pop_songs.csv\n",
      "Error occurred!: Error tokenizing data. C error: Expected 3 fields in line 21, saw 5\n",
      "\n"
     ]
    }
   ],
   "source": [
    "import pandas as pd\n",
    "\n",
    "# load dataset file\n",
    "file_name = input(\"Enter csv file name\")\n",
    "\n",
    "try:\n",
    "    df = pd.read_csv(file_name)\n",
    "    print(f\"file {file_name} successfully loaded!\")\n",
    "    #print headers of the file\n",
    "    print(df.head())\n",
    "except FileNotFoundError:\n",
    "    print(f\"Error: file {file_name} not found\")\n",
    "except Exception as e:\n",
    "    print(f\"Error occurred!: {e}\")"
   ]
  },
  {
   "cell_type": "code",
   "execution_count": 28,
   "id": "88a52426",
   "metadata": {},
   "outputs": [],
   "source": [
    "from sklearn.feature_extraction.text import TfidfVectorizer\n",
    "\n",
    "# initialize vectorizer\n",
    "vec = TfidfVectorizer(stop_words='english')\n",
    "\n",
    "#transform descriptions in the dataset by their unique words\n",
    "df_matrix = vec.fit_transform(df[\"description\"])\n"
   ]
  },
  {
   "cell_type": "code",
   "execution_count": 30,
   "id": "7e8462b9",
   "metadata": {},
   "outputs": [],
   "source": [
    "from sklearn.metrics.pairwise import cosine_similarity\n",
    "\n",
    "#dfien similarity function\n",
    "def recommend(user_query, top_n = 5):\n",
    "    #transform user query to TF-IDF vector\n",
    "    query_vec = vec.transform([user_query])\n",
    "    \n",
    "    #compute cosine similarity\n",
    "    similarity_val = cosine_similarity(query_vec, df_matrix).flatten()\n",
    "    \n",
    "    #Get top N title indices\n",
    "    top_indices = similarity_val.argsort()[-top_n:][::-1]\n",
    "    \n",
    "    #return top matching objects\n",
    "    return df.iloc[top_indices][[\"title\", \"description\"]]"
   ]
  },
  {
   "cell_type": "code",
   "execution_count": null,
   "id": "715047db",
   "metadata": {},
   "outputs": [],
   "source": []
  },
  {
   "cell_type": "code",
   "execution_count": null,
   "id": "aa055641",
   "metadata": {},
   "outputs": [],
   "source": []
  }
 ],
 "metadata": {
  "kernelspec": {
   "display_name": "Python 3 (ipykernel)",
   "language": "python",
   "name": "python3"
  },
  "language_info": {
   "codemirror_mode": {
    "name": "ipython",
    "version": 3
   },
   "file_extension": ".py",
   "mimetype": "text/x-python",
   "name": "python",
   "nbconvert_exporter": "python",
   "pygments_lexer": "ipython3",
   "version": "3.9.12"
  }
 },
 "nbformat": 4,
 "nbformat_minor": 5
}
